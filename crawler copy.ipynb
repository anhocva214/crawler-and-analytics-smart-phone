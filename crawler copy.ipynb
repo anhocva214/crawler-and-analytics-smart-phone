{
 "cells": [
  {
   "cell_type": "code",
   "execution_count": 18,
   "metadata": {},
   "outputs": [],
   "source": [
    "import requests\n",
    "from bs4 import BeautifulSoup\n",
    "import pandas as pd\n",
    "\n",
    "# URL = \"https://www.nettruyenonline.com/truyen-hay-nhat/1.html\"\n",
    "# page = requests.get(URL)\n",
    "\n",
    "# soup = BeautifulSoup(page.content, \"html.parser\")\n",
    "# soup"
   ]
  },
  {
   "cell_type": "code",
   "execution_count": 19,
   "metadata": {},
   "outputs": [],
   "source": [
    "# product_list = soup.select('div.row > div.item')\n",
    "# product_item = product_list[1]\n",
    "# # product_item\n",
    "# product_link =  product_item.find('a').get_attribute_list('href')[0]\n",
    "\n",
    "# page_item = requests.get(product_link)\n",
    "# soup_item = BeautifulSoup(page_item.content, \"html.parser\")\n",
    "# data = {}\n",
    "\n",
    "# def getTextSelect(str):\n",
    "#    return soup_item.select_one(str).get_text()\n",
    "\n",
    "# data['name'] = getTextSelect('#item-detail > h1')\n",
    "# data['category'] = getTextSelect('#ctl00_divCenter > ul.breadcrumb > li:nth-child(3) > a > span')\n",
    "# data['author'] = getTextSelect('#item-detail > div.detail-info > div > div.col-xs-8.col-info > ul > li.author.row > p.col-xs-8 > a')\n",
    "# data['categories_list'] = getTextSelect('#item-detail > div.detail-info > div > div.col-xs-8.col-info > ul > li.kind.row > p.col-xs-8')\n",
    "# data['view_count'] = getTextSelect('#item-detail > div.detail-info > div > div.col-xs-8.col-info > ul > li:nth-child(3) > p.col-xs-8')\n",
    "# data['ratting_value'] = getTextSelect('#item-detail > div.detail-info > div > div.col-xs-8.col-info > div:nth-child(3) > span > span:nth-child(1)')\n",
    "# data['ratting_count'] = getTextSelect('#item-detail > div.detail-info > div > div.col-xs-8.col-info > div:nth-child(3) > span > span:nth-child(2)')\n",
    "# data['chapter_cout'] = getTextSelect('#nt_listchapter > nav > ul > li:nth-child(2) > div.col-xs-9.chapter > a').split(\"-\")[0].split(\" \")[1]\n",
    "# # features = soup_item.select('#content_features > div.NkPdp_productSpecification > div.productSpecification_col-2 > div > table > tbody > tr')\n",
    "# # for f in features:\n",
    "# #    name = f.select_one('td.title').get_text()\n",
    "# #    value = f.select_one('td.value').get_text()\n",
    "# #    phone[name] = value\n",
    "\n",
    "\n",
    "\n",
    "# data"
   ]
  },
  {
   "cell_type": "code",
   "execution_count": 20,
   "metadata": {},
   "outputs": [],
   "source": [
    "def getInfo(product_link):\n",
    "    \n",
    "    page_item = requests.get(product_link)\n",
    "    soup_item = BeautifulSoup(page_item.content, \"html.parser\")\n",
    "    data = {}\n",
    "\n",
    "    def getTextSelect(str):\n",
    "        return soup_item.select_one(str).get_text()\n",
    "\n",
    "    data['name'] = getTextSelect('#item-detail > h1')\n",
    "    data['category'] = getTextSelect('#ctl00_divCenter > ul.breadcrumb > li:nth-child(3) > a > span')\n",
    "    data['author'] = getTextSelect('#item-detail > div.detail-info > div > div.col-xs-8.col-info > ul > li.author.row > p.col-xs-8 > a')\n",
    "    data['categories_list'] = getTextSelect('#item-detail > div.detail-info > div > div.col-xs-8.col-info > ul > li.kind.row > p.col-xs-8')\n",
    "    data['view_count'] = getTextSelect('#item-detail > div.detail-info > div > div.col-xs-8.col-info > ul > li:nth-child(3) > p.col-xs-8')\n",
    "    data['ratting_value'] = getTextSelect('#item-detail > div.detail-info > div > div.col-xs-8.col-info > div:nth-child(3) > span > span:nth-child(1)')\n",
    "    data['ratting_count'] = getTextSelect('#item-detail > div.detail-info > div > div.col-xs-8.col-info > div:nth-child(3) > span > span:nth-child(2)')\n",
    "    data['chapter_cout'] = getTextSelect('#nt_listchapter > nav > ul > li:nth-child(2) > div.col-xs-9.chapter > a').split(\"-\")[0]\n",
    "            \n",
    "\n",
    "    return dict(data)\n",
    "\n",
    "\n",
    "# getInfo('https://didongviet.vn/oppo-a16k.html')"
   ]
  },
  {
   "cell_type": "code",
   "execution_count": 21,
   "metadata": {},
   "outputs": [],
   "source": [
    "# import pandas as pd\n",
    "\n",
    "# data_dict = []\n",
    "\n",
    "# for product in product_list:\n",
    "#     product_link =  product.find('a', class_=\"product-item-link\").get_attribute_list('href')[0]\n",
    "#     print(product_link)\n",
    "#     data_dict.append(getInfo(product_link))\n",
    "#     # try:\n",
    "#     #     getInfo(product_link)\n",
    "#     #     print(\"ok \",product_link)\n",
    "#     # except:\n",
    "#     #     print(\"fail: \", product_link)\n",
    "#     #     pass\n",
    "    \n",
    "    \n",
    "# pd.DataFrame.from_dict(data_dict, orient='columns')"
   ]
  },
  {
   "cell_type": "code",
   "execution_count": 22,
   "metadata": {},
   "outputs": [],
   "source": [
    "# df = pd.DataFrame.from_dict(data_dict, orient='columns')\n",
    "# df.to_csv('data_phone.csv')"
   ]
  },
  {
   "cell_type": "code",
   "execution_count": 23,
   "metadata": {},
   "outputs": [],
   "source": [
    "# df.columns"
   ]
  },
  {
   "cell_type": "code",
   "execution_count": 24,
   "metadata": {},
   "outputs": [],
   "source": [
    "# getInfo('https://www.nguyenkim.com/dien-thoai-samsung-galaxy-a52-4g-8gb-128gb-xanh.html')\n"
   ]
  },
  {
   "cell_type": "code",
   "execution_count": 35,
   "metadata": {},
   "outputs": [
    {
     "name": "stdout",
     "output_type": "stream",
     "text": [
      "page:  952\n",
      "page:  953\n",
      "page:  954\n",
      "page:  955\n",
      "page:  956\n",
      "page:  957\n",
      "page:  958\n",
      "page:  959\n",
      "page:  960\n",
      "page:  961\n",
      "page:  962\n",
      "page:  963\n",
      "page:  964\n",
      "page:  965\n",
      "page:  966\n",
      "page:  967\n",
      "page:  968\n",
      "page:  969\n",
      "page:  970\n",
      "page:  971\n",
      "page:  972\n",
      "page:  973\n",
      "page:  974\n",
      "page:  975\n",
      "page:  976\n",
      "page:  977\n",
      "page:  978\n",
      "page:  979\n",
      "page:  980\n",
      "page:  981\n",
      "page:  982\n",
      "page:  983\n",
      "page:  984\n",
      "page:  985\n",
      "page:  986\n",
      "page:  987\n",
      "page:  988\n",
      "page:  989\n",
      "page:  990\n",
      "page:  991\n",
      "page:  992\n",
      "page:  993\n",
      "page:  994\n",
      "page:  995\n",
      "page:  996\n",
      "page:  997\n",
      "page:  998\n",
      "page:  999\n",
      "page:  1000\n",
      "page:  1001\n",
      "page:  1002\n",
      "page:  1003\n",
      "page:  1004\n",
      "page:  1005\n",
      "page:  1006\n",
      "page:  1007\n",
      "page:  1008\n",
      "page:  1009\n",
      "page:  1010\n",
      "page:  1011\n",
      "page:  1012\n",
      "page:  1013\n",
      "page:  1014\n",
      "page:  1015\n",
      "page:  1016\n",
      "page:  1017\n",
      "page:  1018\n",
      "page:  1019\n",
      "page:  1020\n",
      "page:  1021\n",
      "page:  1022\n",
      "page:  1023\n",
      "page:  1024\n",
      "page:  1025\n",
      "page:  1026\n",
      "page:  1027\n",
      "page:  1028\n",
      "page:  1029\n",
      "page:  1030\n",
      "page:  1031\n",
      "page:  1032\n",
      "page:  1033\n",
      "page:  1034\n",
      "page:  1035\n",
      "page:  1036\n",
      "page:  1037\n",
      "page:  1038\n",
      "page:  1039\n",
      "page:  1040\n",
      "page:  1041\n",
      "page:  1042\n",
      "page:  1043\n",
      "page:  1044\n",
      "page:  1045\n",
      "page:  1046\n",
      "page:  1047\n",
      "page:  1048\n",
      "page:  1049\n",
      "page:  1050\n",
      "page:  1051\n"
     ]
    }
   ],
   "source": [
    "data_dict = []\n",
    "number = 9\n",
    "\n",
    "for page in range(number*100+52, (number+1)*100+52):\n",
    "    print(\"page: \", page)\n",
    "    URL = \"https://www.nettruyenonline.com/truyen-hay-nhat/{}.html\".format(page)\n",
    "    try:\n",
    "        page = requests.get(URL)\n",
    "\n",
    "        soup = BeautifulSoup(page.content, \"html.parser\")\n",
    "        \n",
    "        product_list = soup.select('div.row > div.item')\n",
    "        # print(product_list[0])\n",
    "\n",
    "        for product in product_list:\n",
    "            product_link =  product.find('a').get_attribute_list('href')[0]\n",
    "            # print(product_link) \n",
    "            data_dict.append(getInfo(product_link))\n",
    "    except:\n",
    "        print(\"error: \", URL)\n",
    "    \n",
    "\n",
    "        \n",
    "        "
   ]
  },
  {
   "cell_type": "code",
   "execution_count": 36,
   "metadata": {},
   "outputs": [],
   "source": [
    "\n",
    "df = pd.DataFrame.from_dict(data_dict, orient='columns')\n",
    "df = df.drop_duplicates(subset=['name'], keep=False)\n",
    "df.to_csv('data_crawler_{}.csv'.format(number))"
   ]
  },
  {
   "cell_type": "code",
   "execution_count": 37,
   "metadata": {},
   "outputs": [
    {
     "name": "stdout",
     "output_type": "stream",
     "text": [
      "<class 'pandas.core.frame.DataFrame'>\n",
      "Int64Index: 0 entries\n",
      "Data columns (total 8 columns):\n",
      " #   Column           Non-Null Count  Dtype \n",
      "---  ------           --------------  ----- \n",
      " 0   name             0 non-null      object\n",
      " 1   category         0 non-null      object\n",
      " 2   author           0 non-null      object\n",
      " 3   categories_list  0 non-null      object\n",
      " 4   view_count       0 non-null      object\n",
      " 5   ratting_value    0 non-null      object\n",
      " 6   ratting_count    0 non-null      object\n",
      " 7   chapter_cout     0 non-null      object\n",
      "dtypes: object(8)\n",
      "memory usage: 0.0+ bytes\n"
     ]
    }
   ],
   "source": [
    "df.info()"
   ]
  },
  {
   "cell_type": "code",
   "execution_count": 38,
   "metadata": {},
   "outputs": [
    {
     "data": {
      "text/html": [
       "<div>\n",
       "<style scoped>\n",
       "    .dataframe tbody tr th:only-of-type {\n",
       "        vertical-align: middle;\n",
       "    }\n",
       "\n",
       "    .dataframe tbody tr th {\n",
       "        vertical-align: top;\n",
       "    }\n",
       "\n",
       "    .dataframe thead th {\n",
       "        text-align: right;\n",
       "    }\n",
       "</style>\n",
       "<table border=\"1\" class=\"dataframe\">\n",
       "  <thead>\n",
       "    <tr style=\"text-align: right;\">\n",
       "      <th></th>\n",
       "      <th>name</th>\n",
       "      <th>category</th>\n",
       "      <th>author</th>\n",
       "      <th>categories_list</th>\n",
       "      <th>view_count</th>\n",
       "      <th>ratting_value</th>\n",
       "      <th>ratting_count</th>\n",
       "      <th>chapter_cout</th>\n",
       "    </tr>\n",
       "  </thead>\n",
       "  <tbody>\n",
       "  </tbody>\n",
       "</table>\n",
       "</div>"
      ],
      "text/plain": [
       "Empty DataFrame\n",
       "Columns: [name, category, author, categories_list, view_count, ratting_value, ratting_count, chapter_cout]\n",
       "Index: []"
      ]
     },
     "execution_count": 38,
     "metadata": {},
     "output_type": "execute_result"
    }
   ],
   "source": [
    "df.head()"
   ]
  },
  {
   "cell_type": "code",
   "execution_count": 39,
   "metadata": {},
   "outputs": [],
   "source": [
    "# df = pd.read_csv('./data_phone_nguyen_kiem.csv')\n",
    "\n",
    "# df_ = df.drop_duplicates(subset=['name'], keep=False)\n",
    "# df_.info()"
   ]
  },
  {
   "cell_type": "code",
   "execution_count": null,
   "metadata": {},
   "outputs": [],
   "source": []
  }
 ],
 "metadata": {
  "interpreter": {
   "hash": "d4940367a1c247cff1973171d13d91a9d216bc6cf526cc3d6f510584c0efb217"
  },
  "kernelspec": {
   "display_name": "Python 3.6.13 64-bit ('AI': conda)",
   "language": "python",
   "name": "python3"
  },
  "language_info": {
   "codemirror_mode": {
    "name": "ipython",
    "version": 3
   },
   "file_extension": ".py",
   "mimetype": "text/x-python",
   "name": "python",
   "nbconvert_exporter": "python",
   "pygments_lexer": "ipython3",
   "version": "3.6.13"
  },
  "orig_nbformat": 4
 },
 "nbformat": 4,
 "nbformat_minor": 2
}
